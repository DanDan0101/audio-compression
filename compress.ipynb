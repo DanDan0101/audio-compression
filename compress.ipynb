{
 "cells": [
  {
   "cell_type": "code",
   "execution_count": 1,
   "metadata": {},
   "outputs": [],
   "source": [
    "from scipy.io import wavfile\n",
    "from scipy.fft import rfft, rfftfreq, irfft\n",
    "import numpy as np\n",
    "from tqdm import tqdm"
   ]
  },
  {
   "cell_type": "markdown",
   "metadata": {},
   "source": [
    "## Read data"
   ]
  },
  {
   "cell_type": "code",
   "execution_count": 2,
   "metadata": {},
   "outputs": [],
   "source": [
    "samplerate, data = wavfile.read(\"enbateau.wav\")\n",
    "N = data.shape[0]\n",
    "length = N / samplerate"
   ]
  },
  {
   "cell_type": "code",
   "execution_count": 3,
   "metadata": {},
   "outputs": [],
   "source": [
    "left = data[:, 0]\n",
    "right = data[:, 1]"
   ]
  },
  {
   "cell_type": "markdown",
   "metadata": {},
   "source": [
    "## Real FFT"
   ]
  },
  {
   "cell_type": "code",
   "execution_count": 4,
   "metadata": {},
   "outputs": [],
   "source": [
    "y_left = rfft(left)\n",
    "y_right = rfft(right)"
   ]
  },
  {
   "cell_type": "code",
   "execution_count": 5,
   "metadata": {},
   "outputs": [],
   "source": [
    "f = rfftfreq(N, 1. / samplerate)"
   ]
  },
  {
   "cell_type": "markdown",
   "metadata": {},
   "source": [
    "## Filter and Inverse RFFT"
   ]
  },
  {
   "cell_type": "code",
   "execution_count": 6,
   "metadata": {},
   "outputs": [],
   "source": [
    "def truncate(min, max):\n",
    "    y_left_t = y_left.copy()\n",
    "    y_left_t[abs(f) < min] = 0\n",
    "    y_left_t[abs(f) > max] = 0\n",
    "\n",
    "    y_right_t = y_right.copy()\n",
    "    y_right_t[abs(f) < min] = 0\n",
    "    y_right_t[abs(f) > max] = 0\n",
    "\n",
    "    return y_left_t, y_right_t"
   ]
  },
  {
   "cell_type": "code",
   "execution_count": 7,
   "metadata": {},
   "outputs": [],
   "source": [
    "def process(min, max, filename = None):\n",
    "    y_left_t, y_right_t = truncate(min, max)\n",
    "    left_t = irfft(y_left_t)\n",
    "    right_t = irfft(y_right_t)\n",
    "    data_t = np.stack((left_t, right_t), axis = -1)\n",
    "    if filename is None:\n",
    "        filename = \"{}-{}.wav\".format(min, max)\n",
    "    wavfile.write(filename, samplerate, data_t.astype(np.int16))"
   ]
  },
  {
   "cell_type": "markdown",
   "metadata": {},
   "source": [
    "## Save\n",
    "[Frequency range chart](https://upload.wikimedia.org/wikipedia/commons/5/5d/Animal_hearing_frequency_range.svg)"
   ]
  },
  {
   "cell_type": "code",
   "execution_count": 8,
   "metadata": {},
   "outputs": [],
   "source": [
    "animals = ((\"tuna\",50,1100),(\"chicken\",125,2000),(\"goldfish\",20,3000),(\"bullfrog\",100,3000),(\"catfish\",50,4000),(\"tree frog\",50,4000),(\"canary\",250,8000),(\"cockatiel\",250,8000),(\"parakeet\",200,8500),(\"elephant\",17,10500),(\"owl\",200,12000),(\"human\",31,19000),(\"chinchilla\",52,33000),(\"horse\",55,33500),(\"cow\",23,35000),(\"raccoon\",100,40000),(\"sheep\",125,42500),(\"dog\",64,44000),(\"ferret\",16,44000),(\"hedgehog\",250,45000),(\"guinea pig\",47,49000),(\"rabbit\",96,49000),(\"sea lion\",200,50000),(\"gerbil\",56,60000),(\"opossum\",500,64000),(\"albino rat\",390,72000),(\"hooded rat\",530,75000),(\"cat\",55,77000),(\"mouse\",900,79000),(\"little brown bat\",10300,115000),(\"beluga whale\",1000,123000),(\"bottlenose dolphin\",150,150000),(\"porpoise\",75,150000))"
   ]
  },
  {
   "cell_type": "code",
   "execution_count": 9,
   "metadata": {},
   "outputs": [
    {
     "name": "stderr",
     "output_type": "stream",
     "text": [
      "100%|██████████| 33/33 [02:01<00:00,  3.69s/it]\n"
     ]
    }
   ],
   "source": [
    "for animal in tqdm(animals):\n",
    "    process(animal[1], animal[2], filename = animal[0] + \".wav\")"
   ]
  },
  {
   "cell_type": "code",
   "execution_count": null,
   "metadata": {},
   "outputs": [],
   "source": []
  }
 ],
 "metadata": {
  "kernelspec": {
   "display_name": "Python 3.7.13 ('pointcloud')",
   "language": "python",
   "name": "python3"
  },
  "language_info": {
   "codemirror_mode": {
    "name": "ipython",
    "version": 3
   },
   "file_extension": ".py",
   "mimetype": "text/x-python",
   "name": "python",
   "nbconvert_exporter": "python",
   "pygments_lexer": "ipython3",
   "version": "3.7.13"
  },
  "orig_nbformat": 4,
  "vscode": {
   "interpreter": {
    "hash": "c4b701668ec1855aed9e845320b7dd61d6283237c2e08cb632274526176f05bc"
   }
  }
 },
 "nbformat": 4,
 "nbformat_minor": 2
}
